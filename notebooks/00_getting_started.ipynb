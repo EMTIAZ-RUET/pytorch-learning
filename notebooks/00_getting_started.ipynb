{
 "cells": [
  {
   "cell_type": "markdown",
   "metadata": {},
   "source": [
    "# Getting Started with PyTorch\n",
    "\n",
    "This notebook will help you verify your PyTorch installation and get familiar with the basic concepts.\n"
   ]
  },
  {
   "cell_type": "markdown",
   "metadata": {},
   "source": [
    "## 1. Import PyTorch and Check Installation"
   ]
  },
  {
   "cell_type": "code",
   "execution_count": null,
   "metadata": {},
   "outputs": [],
   "source": [
    "import torch\n",
    "import torch.nn as nn\n",
    "import torch.optim as optim\n",
    "import numpy as np\n",
    "import matplotlib.pyplot as plt\n",
    "\n",
    "print(f\"PyTorch version: {torch.__version__}\")\n",
    "print(f\"CUDA available: {torch.cuda.is_available()}\")\n",
    "if torch.cuda.is_available():\n",
    "    print(f\"CUDA version: {torch.version.cuda}\")\n",
    "    print(f\"Number of GPUs: {torch.cuda.device_count()}\")"
   ]
  },
  {
   "cell_type": "markdown",
   "metadata": {},
   "source": [
    "## 2. Create Your First Tensor"
   ]
  },
  {
   "cell_type": "code",
   "execution_count": null,
   "metadata": {},
   "outputs": [],
   "source": [
    "# Create a simple tensor\n",
    "x = torch.tensor([[1, 2, 3], [4, 5, 6]])\n",
    "print(f\"Tensor x: {x}\")\n",
    "print(f\"Shape: {x.shape}\")\n",
    "print(f\"Data type: {x.dtype}\")\n",
    "\n",
    "# Create a random tensor\n",
    "y = torch.randn(2, 3)\n",
    "print(f\"\\nRandom tensor y: {y}\")"
   ]
  },
  {
   "cell_type": "markdown",
   "metadata": {},
   "source": [
    "## 3. Basic Operations"
   ]
  },
  {
   "cell_type": "code",
   "execution_count": null,
   "metadata": {},
   "outputs": [],
   "source": [
    "# Element-wise addition\n",
    "z = x + y\n",
    "print(f\"Addition result: {z}\")\n",
    "\n",
    "# Matrix multiplication\n",
    "a = torch.randn(3, 4)\n",
    "b = torch.randn(4, 2)\n",
    "c = torch.matmul(a, b)\n",
    "print(f\"\\nMatrix multiplication result shape: {c.shape}\")\n",
    "print(f\"Result: {c}\")"
   ]
  },
  {
   "cell_type": "markdown",
   "metadata": {},
   "source": [
    "## 4. Autograd - Automatic Differentiation"
   ]
  },
  {
   "cell_type": "code",
   "execution_count": null,
   "metadata": {},
   "outputs": [],
   "source": [
    "# Create tensors that require gradients\n",
    "x = torch.tensor([[1., 2.], [3., 4.]], requires_grad=True)\n",
    "print(f\"Input tensor x: {x}\")\n",
    "\n",
    "# Perform some operations\n",
    "y = x ** 2\n",
    "z = y.mean()\n",
    "\n",
    "print(f\"y = x^2: {y}\")\n",
    "print(f\"z = mean(y): {z}\")\n",
    "\n",
    "# Compute gradients\n",
    "z.backward()\n",
    "print(f\"\\nGradients (dz/dx): {x.grad}\")"
   ]
  },
  {
   "cell_type": "markdown",
   "metadata": {},
   "source": [
    "## 5. Simple Neural Network"
   ]
  },
  {
   "cell_type": "code",
   "execution_count": null,
   "metadata": {},
   "outputs": [],
   "source": [
    "# Define a simple neural network\n",
    "class SimpleNet(nn.Module):\n",
    "    def __init__(self):\n",
    "        super(SimpleNet, self).__init__()\n",
    "        self.fc1 = nn.Linear(2, 4)  # Input layer to hidden layer\n",
    "        self.fc2 = nn.Linear(4, 1)  # Hidden layer to output layer\n",
    "        self.relu = nn.ReLU()\n",
    "        \n",
    "    def forward(self, x):\n",
    "        x = self.relu(self.fc1(x))\n",
    "        x = self.fc2(x)\n",
    "        return x\n",
    "\n",
    "# Create the model\n",
    "model = SimpleNet()\n",
    "print(\"Model architecture:\")\n",
    "print(model)\n",
    "\n",
    "# Test with random input\n",
    "input_tensor = torch.randn(1, 2)\n",
    "output = model(input_tensor)\n",
    "print(f\"\\nInput: {input_tensor}\")\n",
    "print(f\"Output: {output}\")"
   ]
  },
  {
   "cell_type": "markdown",
   "metadata": {},
   "source": [
    "## 6. Data Visualization"
   ]
  },
  {
   "cell_type": "code",
   "execution_count": null,
   "metadata": {},
   "outputs": [],
   "source": [
    "# Create some sample data and visualize\n",
    "x_data = torch.linspace(-5, 5, 100)\n",
    "y_data = torch.sin(x_data) + 0.1 * torch.randn(100)\n",
    "\n",
    "plt.figure(figsize=(10, 6))\n",
    "plt.plot(x_data.numpy(), y_data.numpy(), 'b.', alpha=0.7, label='Data points')\n",
    "plt.plot(x_data.numpy(), torch.sin(x_data).numpy(), 'r-', label='True function')\n",
    "plt.xlabel('x')\n",
    "plt.ylabel('y')\n",
    "plt.title('Sample Data for PyTorch Learning')\n",
    "plt.legend()\n",
    "plt.grid(True, alpha=0.3)\n",
    "plt.show()"
   ]
  },
  {
   "cell_type": "markdown",
   "metadata": {},
   "source": [
    "## Next Steps\n",
    "\n",
    "Congratulations! You've successfully run your first PyTorch code. Here's what you can explore next:\n",
    "\n",
    "1. **Basics folder**: Start with `01_tensor_basics.py` for more tensor operations\n",
    "2. **Computer Vision**: Explore image classification examples\n",
    "3. **NLP**: Try text processing with PyTorch\n",
    "4. **Projects**: Work on complete end-to-end projects\n",
    "\n",
    "Remember to update your progress in the main README.md file!\n"
   ]
  }
 ],
 "metadata": {
  "kernelspec": {
   "display_name": "Python 3",
   "language": "python",
   "name": "python3"
  },
  "language_info": {
   "codemirror_mode": {
    "name": "ipython",
    "version": 3
   },
   "file_extension": ".py",
   "mimetype": "text/x-python",
   "name": "python",
   "nbconvert_exporter": "python",
   "pygments_lexer": "ipython3",
   "version": "3.8.5"
  }
 },
 "nbformat": 4,
 "nbformat_minor": 4
}